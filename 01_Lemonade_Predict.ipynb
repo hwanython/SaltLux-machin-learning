{
  "nbformat": 4,
  "nbformat_minor": 0,
  "metadata": {
    "colab": {
      "name": "01. Lemonade_Predict.ipynb",
      "provenance": [],
      "collapsed_sections": [],
      "authorship_tag": "ABX9TyNSR6yPYLrbGYeuNTGbHPp7",
      "include_colab_link": true
    },
    "kernelspec": {
      "name": "python3",
      "display_name": "Python 3"
    },
    "language_info": {
      "name": "python"
    }
  },
  "cells": [
    {
      "cell_type": "markdown",
      "metadata": {
        "id": "view-in-github",
        "colab_type": "text"
      },
      "source": [
        "<a href=\"https://colab.research.google.com/github/hwanython/SaltLux-machin-learning/blob/main/01_Lemonade_Predict.ipynb\" target=\"_parent\"><img src=\"https://colab.research.google.com/assets/colab-badge.svg\" alt=\"Open In Colab\"/></a>"
      ]
    },
    {
      "cell_type": "markdown",
      "source": [
        "#첫번째 딥러닝 - 레모네이드 판매 예측"
      ],
      "metadata": {
        "id": "XQnCUe7MiR0x"
      }
    },
    {
      "cell_type": "code",
      "source": [
        "###########################\n",
        "# 라이브러리 사용\n",
        "import tensorflow as tf\n",
        "import pandas as pd\n",
        " \n",
        "###########################\n",
        "# 데이터를 준비합니다.\n",
        "파일경로 = 'https://raw.githubusercontent.com/blackdew/tensorflow1/master/csv/lemonade.csv'\n",
        "레모네이드 = pd.read_csv(파일경로)\n",
        "레모네이드.head()\n",
        "# 종속변수, 독립변수\n",
        "독립 = 레모네이드[['온도']]\n",
        "종속 = 레모네이드[['판매량']]\n",
        "print(독립.shape, 종속.shape)\n",
        " "
      ],
      "metadata": {
        "colab": {
          "base_uri": "https://localhost:8080/"
        },
        "id": "4crYueCviTY4",
        "outputId": "5cd2611e-e1a1-4e78-bb62-f9d1c9b25933"
      },
      "execution_count": null,
      "outputs": [
        {
          "output_type": "stream",
          "name": "stdout",
          "text": [
            "(6, 1) (6, 1)\n"
          ]
        }
      ]
    },
    {
      "cell_type": "code",
      "source": [
        "###########################\n",
        "# 모델을 만듭니다.\n",
        "X = tf.keras.layers.Input(shape=[1])\n",
        "Y = tf.keras.layers.Dense(1)(X)\n",
        "model = tf.keras.models.Model(X, Y)\n",
        "model.compile(loss='mse')\n",
        " "
      ],
      "metadata": {
        "id": "K6mcmI3EiTy4"
      },
      "execution_count": null,
      "outputs": []
    },
    {
      "cell_type": "code",
      "source": [
        "import math\n",
        "math.sqrt(1875.4823)"
      ],
      "metadata": {
        "colab": {
          "base_uri": "https://localhost:8080/"
        },
        "id": "a0T6gDmgkiDI",
        "outputId": "66de6fa2-26c9-4e1d-ff52-79af783bea99"
      },
      "execution_count": null,
      "outputs": [
        {
          "output_type": "execute_result",
          "data": {
            "text/plain": [
              "43.306838951833"
            ]
          },
          "metadata": {},
          "execution_count": 7
        }
      ]
    },
    {
      "cell_type": "code",
      "source": [
        "###########################\n",
        "# 모델을 학습시킵니다. \n",
        "model.fit(독립, 종속, epochs=1000, verbose=0)\n",
        "model.fit(독립, 종속, epochs=10)\n",
        " \n"
      ],
      "metadata": {
        "colab": {
          "base_uri": "https://localhost:8080/"
        },
        "id": "_QPq0rpZifvw",
        "outputId": "a781bf61-f5a7-4743-b60f-31fd1facddb8"
      },
      "execution_count": null,
      "outputs": [
        {
          "output_type": "stream",
          "name": "stdout",
          "text": [
            "Epoch 1/10\n",
            "1/1 [==============================] - 0s 5ms/step - loss: 2.1271e-04\n",
            "Epoch 2/10\n",
            "1/1 [==============================] - 0s 4ms/step - loss: 2.1263e-04\n",
            "Epoch 3/10\n",
            "1/1 [==============================] - 0s 6ms/step - loss: 2.1264e-04\n",
            "Epoch 4/10\n",
            "1/1 [==============================] - 0s 8ms/step - loss: 2.1272e-04\n",
            "Epoch 5/10\n",
            "1/1 [==============================] - 0s 7ms/step - loss: 2.1272e-04\n",
            "Epoch 6/10\n",
            "1/1 [==============================] - 0s 7ms/step - loss: 2.1262e-04\n",
            "Epoch 7/10\n",
            "1/1 [==============================] - 0s 11ms/step - loss: 2.1257e-04\n",
            "Epoch 8/10\n",
            "1/1 [==============================] - 0s 6ms/step - loss: 2.1252e-04\n",
            "Epoch 9/10\n",
            "1/1 [==============================] - 0s 6ms/step - loss: 2.1250e-04\n",
            "Epoch 10/10\n",
            "1/1 [==============================] - 0s 6ms/step - loss: 2.1244e-04\n"
          ]
        },
        {
          "output_type": "execute_result",
          "data": {
            "text/plain": [
              "<keras.callbacks.History at 0x7f594d5b6390>"
            ]
          },
          "metadata": {},
          "execution_count": 12
        }
      ]
    },
    {
      "cell_type": "code",
      "source": [
        "###########################\n",
        "# 모델을 이용합니다. \n",
        "print(model.predict(독립))\n",
        "print(model.predict([[15]]))"
      ],
      "metadata": {
        "colab": {
          "base_uri": "https://localhost:8080/"
        },
        "id": "zxjiYqrfihSH",
        "outputId": "2b1c7588-01ac-4c06-e042-c56d558ee046"
      },
      "execution_count": null,
      "outputs": [
        {
          "output_type": "stream",
          "name": "stdout",
          "text": [
            "[[40.01003 ]\n",
            " [42.001705]\n",
            " [43.993385]\n",
            " [45.985065]\n",
            " [47.97674 ]\n",
            " [49.968422]]\n",
            "[[30.051636]]\n"
          ]
        }
      ]
    },
    {
      "cell_type": "code",
      "source": [
        "model.get_weights()"
      ],
      "metadata": {
        "colab": {
          "base_uri": "https://localhost:8080/"
        },
        "id": "9yv_bRb9lP1_",
        "outputId": "3d3e4dfb-407c-4564-c6e7-a3fff1bcd837"
      },
      "execution_count": null,
      "outputs": [
        {
          "output_type": "execute_result",
          "data": {
            "text/plain": [
              "[array([[1.9944928]], dtype=float32), array([0.11278097], dtype=float32)]"
            ]
          },
          "metadata": {},
          "execution_count": 13
        }
      ]
    },
    {
      "cell_type": "code",
      "source": [
        "온도 = 22"
      ],
      "metadata": {
        "id": "PSowkvCzlX3X"
      },
      "execution_count": null,
      "outputs": []
    },
    {
      "cell_type": "code",
      "source": [
        "판매량 = 1.9944928 * 온도 + 0.11278097"
      ],
      "metadata": {
        "id": "sR0Jvmyglgj-"
      },
      "execution_count": null,
      "outputs": []
    },
    {
      "cell_type": "code",
      "source": [
        "판매량"
      ],
      "metadata": {
        "colab": {
          "base_uri": "https://localhost:8080/"
        },
        "id": "0eplXtGZlwv5",
        "outputId": "7dff7385-68b2-4e6c-ae47-14363e775672"
      },
      "execution_count": null,
      "outputs": [
        {
          "output_type": "execute_result",
          "data": {
            "text/plain": [
              "43.991622570000004"
            ]
          },
          "metadata": {},
          "execution_count": 19
        }
      ]
    },
    {
      "cell_type": "code",
      "source": [
        ""
      ],
      "metadata": {
        "id": "j6k5P6Hol3Lg"
      },
      "execution_count": null,
      "outputs": []
    }
  ]
}